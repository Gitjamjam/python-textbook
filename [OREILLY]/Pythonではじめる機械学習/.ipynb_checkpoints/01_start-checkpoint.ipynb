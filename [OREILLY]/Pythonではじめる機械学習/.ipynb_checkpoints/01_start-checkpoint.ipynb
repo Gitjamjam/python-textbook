{
 "cells": [
  {
   "cell_type": "markdown",
   "metadata": {},
   "source": [
    "# オンラインの資料\n",
    "\n",
    "## scikit-learn の webサイト\n",
    "  - https://scikit-learn.org/stable/\n",
    "  \n",
    "## 補助資料\n",
    "- https://github.com/amueller/introduction_to_ml_with_python\n",
    "\n",
    "## 本書の正誤表や追加情報\n",
    "- http://www.oreilly.co.jp/books/9784873117980\n"
   ]
  },
  {
   "cell_type": "markdown",
   "metadata": {},
   "source": [
    "# 人間が決定するルールの問題点\n",
    "- ある判断を行うためのロジックが個々のタスクのドメインに特有のものになる。タスクが少しでも変わると、システム全体を書き直さなければならないかもしれない。\n",
    "- ルールを設計するには、人間のエキスパートがどのように判断しているかを深く理解する必要がある"
   ]
  },
  {
   "cell_type": "markdown",
   "metadata": {},
   "source": [
    "# 大切なこと\n",
    "- 扱っているデータを理解すること\n",
    "- 解決しようとしている問題とデータとの関係を理解すること \n",
    "\n",
    "## 確認する問い\n",
    "- 答えようとしている問いはなにか\n",
    "- 集めたデータで問いに答えられるか\n",
    "- 問いを機械学習問題に置き換える、最も良い方法はなにか\n",
    "- 解こうとしている問題を表現するのに十分なデータを集めただろうか\n",
    "- とのような特徴量を抽出したのか、その特徴量で正しい予測が可能だろうか\n",
    "- アプリケーションが上手く行ったかをどう判断したらよいか\n"
   ]
  },
  {
   "cell_type": "markdown",
   "metadata": {},
   "source": [
    "# データをよく観察する\n",
    "- 異常値やおかしな点を見つける\n",
    "\n",
    "## 散布図"
   ]
  },
  {
   "cell_type": "code",
   "execution_count": null,
   "metadata": {},
   "outputs": [],
   "source": []
  }
 ],
 "metadata": {
  "kernelspec": {
   "display_name": "Python 3",
   "language": "python",
   "name": "python3"
  },
  "language_info": {
   "codemirror_mode": {
    "name": "ipython",
    "version": 3
   },
   "file_extension": ".py",
   "mimetype": "text/x-python",
   "name": "python",
   "nbconvert_exporter": "python",
   "pygments_lexer": "ipython3",
   "version": "3.7.4"
  }
 },
 "nbformat": 4,
 "nbformat_minor": 2
}
